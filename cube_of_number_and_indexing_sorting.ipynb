{
 "cells": [
  {
   "cell_type": "code",
   "execution_count": 2,
   "id": "6463fc3d",
   "metadata": {},
   "outputs": [
    {
     "name": "stdout",
     "output_type": "stream",
     "text": [
      "[(1, 1), (2, 8), (3, 27), (4, 64), (5, 125)]\n",
      "[(12, 1728), (34, 39304), (5, 125), (67, 300763), (68, 314432), (67, 300763)]\n"
     ]
    }
   ],
   "source": [
    "#CUBE\n",
    "aa=[1,2,3,4,5]\n",
    "bb=[(val,pow(val,3)) for val in aa]\n",
    "print(bb)\n",
    "dude=[12,34,5,67,68,67]\n",
    "bro=[(val,pow(val,3))for val in dude]\n",
    "print(bro)"
   ]
  },
  {
   "cell_type": "code",
   "execution_count": 3,
   "id": "1bda4a86",
   "metadata": {},
   "outputs": [
    {
     "name": "stdout",
     "output_type": "stream",
     "text": [
      "1st element in a array 1\n",
      "3rd element in a array 3\n",
      "2nd element in 2nd array 7\n",
      "3rd element in 1nd array 5\n",
      "[1 6 7 8 9]\n",
      "['apple' 'banana' 'lavade' 'orange']\n"
     ]
    }
   ],
   "source": [
    "#INDEXING\n",
    "import numpy as np\n",
    "a=np.array([1,2,3,4])\n",
    "print(\"1st element in a array\",a[0])\n",
    "print(\"3rd element in a array\",a[2])\n",
    "\n",
    "b=np.array([[2,4,5,6,],[6,7,8,9]])\n",
    "print(\"2nd element in 2nd array\",b[1,1])\n",
    "print(\"3rd element in 1nd array\",b[0,2])\n",
    "\n",
    "#SORTING\n",
    "aaa=np.array([1,9,7,6,8])\n",
    "print(np.sort(aaa))\n",
    "bbb=np.array([\"banana\",\"apple\",\"orange\",\"lavade\"])\n",
    "print(np.sort(bbb))\n"
   ]
  },
  {
   "cell_type": "code",
   "execution_count": 4,
   "id": "79929124",
   "metadata": {},
   "outputs": [
    {
     "name": "stdout",
     "output_type": "stream",
     "text": [
      "1st element in a array 1\n",
      "3rd element in a array 3\n"
     ]
    }
   ],
   "source": [
    "import numpy as np\n",
    "aug=np.array([1,2,3,4])\n",
    "print(\"1st element in a array\",aug[0])\n",
    "print(\"3rd element in a array\",aug[2])"
   ]
  },
  {
   "cell_type": "code",
   "execution_count": null,
   "id": "33ddf649",
   "metadata": {},
   "outputs": [],
   "source": []
  }
 ],
 "metadata": {
  "kernelspec": {
   "display_name": "Python 3 (ipykernel)",
   "language": "python",
   "name": "python3"
  },
  "language_info": {
   "codemirror_mode": {
    "name": "ipython",
    "version": 3
   },
   "file_extension": ".py",
   "mimetype": "text/x-python",
   "name": "python",
   "nbconvert_exporter": "python",
   "pygments_lexer": "ipython3",
   "version": "3.9.12"
  }
 },
 "nbformat": 4,
 "nbformat_minor": 5
}
